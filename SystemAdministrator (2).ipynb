{
 "cells": [
  {
   "cell_type": "markdown",
   "id": "33347650",
   "metadata": {},
   "source": [
    "# Table of Content: <a class=\"anchor\" id=\"table-of-content\"></a>\n",
    "* [1. Problem Background and Motivation](#problem-background)\n",
    "* [2. Libraries and Custom Functions](#import-packages)\n",
    "* [3. Data Exploration/Prep](#data-prep)\n",
    "* [4. Machine Learning Model](#ml-model)\n",
    "* [5. Deployment of Model](#model-deployment)"
   ]
  },
  {
   "cell_type": "markdown",
   "id": "9a6426a9",
   "metadata": {},
   "source": [
    "# 1. Problem Background and Motivation <a class=\"anchor\" id=\"problem-background\"></a>\n",
    "\n",
    "<img src='https://www.saviom.com/blog/wp-content/uploads/2017/06/the-5-best-methods-of-successful-resource-allocati.jpg' width=\"700\" />\n",
    "\n",
    "Human resources has been slower to come to the table with machine learning and artificial intelligence than other fields—marketing, communications, even health care. But the value of machine learning in human resources can now be measured, thanks to advances in algorithms that can predict employee task completion. The degree of experience and training can be used to predict whether an employee will be capable of completing the assignment. We can use this metric for allocation of employees in different assignments.\n",
    "\n",
    "\n",
    "<b>But who would be interested in this analysis?</b> <br>\n",
    "By knowing the degree of task completion of each employee, the HR department can efficiently assign employees to teams.Moreover, the HR can also assign employees with sureity of task completion to important projects. \n",
    "\n",
    "* [Go to Top](#table-of-content)"
   ]
  },
  {
   "cell_type": "markdown",
   "id": "2576fd06",
   "metadata": {},
   "source": [
    "# 2. Libraries & Custom Functions <a class=\"anchor\" id=\"import-packages\"></a>\n",
    "> **Numpy** : NumPy is a library for the Python programming language, adding support for large, multi-dimensional arrays and matrices, along with a large collection of high-level mathematical functions to operate on these arrays. <br> <br>\n",
    " **Pandas** : Pandas is a software library written for the Python programming language for data manipulation and analysis. <br> <br>\n",
    " \n",
    " \n",
    " ##### The graphic libraries\n",
    " \n",
    " >**Seaborn** : Seaborn is a Python data visualization library based on matplotlib. It provides a high-level interface for drawing attractive and informative statistical graphics. <br> <br>\n",
    " **Matplotlib** : Matplotlib is a comprehensive library for creating static, animated, and interactive visualizations in Python.\n",
    " \n",
    " ##### The Machine Learning Libraries\n",
    " >**Sklearn** : Scikit-learn is a free software machine learning library for the Python programming language featuring various classification, regression and clustering algorithms.\n",
    " \n",
    "* [Go to Top](#table-of-content)"
   ]
  },
  {
   "cell_type": "code",
   "execution_count": 49,
   "id": "6cddaf44",
   "metadata": {},
   "outputs": [],
   "source": [
    "import pandas as pd\n",
    "pd.set_option('display.max_columns', None)\n",
    "pd.options.display.float_format = '{:.2f}'.format\n",
    "import numpy as np\n",
    "\n",
    "# Graphics\n",
    "import seaborn as sns\n",
    "import matplotlib.pyplot as plt\n",
    "import plotly.graph_objects as go\n",
    "\n",
    "# ML\n",
    "from sklearn.model_selection import train_test_split\n",
    "from sklearn.linear_model import LogisticRegression\n",
    "from sklearn.neighbors import NearestNeighbors, KNeighborsClassifier\n",
    "from sklearn import metrics\n",
    "from sklearn import preprocessing\n",
    "\n",
    "\n",
    "# Custom function below is used to display performance measures\n",
    "#Why use performance measure?\n",
    "#Performance measure correctly evaluate the model being produced to guarantee that the predictions are accurately describing the intended phenomenon. \n",
    "# Required inputs are the model name and the two test data objects (X,y)\n",
    "def class_perf_measures(model,X_test,y_test):\n",
    "    # Create empty lists to store metric values created within loop\n",
    "    TP = []  #True positives\n",
    "    TN = []  #True Negatives\n",
    "    FP = []  #False Positives\n",
    "    FN = []  #False Negatives \n",
    "    recall = []  #The recall is calculated as the ratio between the number of Positive samples correctly classified as Positive to the total number of True Positive and False Negatives. It is used when False Negatives is the costliest mistake you can make\n",
    "    precision = [] #The Precsion is calculated as the ratio between the number of Positive samples correctly classified as Positive to the total number of True Positive and False Positives. It is used when False Positives are the costliest mistake you can make\n",
    "    F1 = []    #F1 score is used when we are confused between what to use Recall or Precision? F1 is calculated as a combination of Recall and Precision\n",
    "    Accuracy = []  #Accuracy gives the overall performance of the model\n",
    "    \n",
    "    # Create list of probability threshold values to loop over\n",
    "    threshold = np.arange(0,1.1,0.1).tolist()\n",
    "\n",
    "    # Start loop\n",
    "    for i in threshold:\n",
    "\n",
    "        # Create class assignments given threshold value\n",
    "        y_test_pred_class = (model.predict_proba(X_test)[:,1] >= i).astype(int)\n",
    "\n",
    "        # Append lists with metric values\n",
    "        TP.append(metrics.confusion_matrix(y_test, y_test_pred_class)[1,1])\n",
    "        TN.append(metrics.confusion_matrix(y_test, y_test_pred_class)[0,0])\n",
    "        FP.append(metrics.confusion_matrix(y_test, y_test_pred_class)[0,1])\n",
    "        FN.append(metrics.confusion_matrix(y_test, y_test_pred_class)[1,0])\n",
    "        recall.append(metrics.recall_score(y_test, y_test_pred_class).round(3))\n",
    "        precision.append(metrics.precision_score(y_test, y_test_pred_class).round(3))\n",
    "        F1.append(metrics.f1_score(y_test, y_test_pred_class).round(2))\n",
    "        Accuracy.append(metrics.accuracy_score(y_test, y_test_pred_class).round(2))\n",
    "\n",
    "    # Create dataframe\n",
    "    result = pd.DataFrame({\"threshold\":threshold,\n",
    "                           \"TP\":TP,\n",
    "                           \"TN\":TN,\n",
    "                           \"FP\":FP,\n",
    "                           \"FN\":FN,\n",
    "                           \"Precision\":precision,\n",
    "                           \"Recall\":recall,\n",
    "                           \"Accuracy\": Accuracy\n",
    "                          })\n",
    "\n",
    "    # Let's look at our dataframe\n",
    "    return result"
   ]
  },
  {
   "cell_type": "markdown",
   "id": "4be02e3a",
   "metadata": {},
   "source": [
    "# 3. Data Exploration/Prep <a class=\"anchor\" id=\"data-prep\"></a>\n",
    "* [Go to Top of Notebook](#table-of-content)"
   ]
  },
  {
   "cell_type": "markdown",
   "id": "511726b5",
   "metadata": {},
   "source": [
    "- [ ] [Initial Evaluation](#initial-evaluation)\n",
    "- [ ] [Initial Cleanup - dupes, missing values](#missing-values)\n",
    "- [ ] [Outlier Detection & Treatment](#outliers)\n",
    "- [ ] [Feature Selection](#feature-selection)\n",
    "- [ ] [Data Partitioning](#data-split)\n",
    "- [ ] [Data Normalization](#normalization)"
   ]
  },
  {
   "cell_type": "markdown",
   "id": "487e94ad",
   "metadata": {},
   "source": [
    "> **Initial Evaluation** <a class=\"anchor\" id=\"initial-evaluation\"></a>"
   ]
  },
  {
   "cell_type": "code",
   "execution_count": 50,
   "id": "ef02c743",
   "metadata": {},
   "outputs": [
    {
     "data": {
      "text/html": [
       "<div>\n",
       "<style scoped>\n",
       "    .dataframe tbody tr th:only-of-type {\n",
       "        vertical-align: middle;\n",
       "    }\n",
       "\n",
       "    .dataframe tbody tr th {\n",
       "        vertical-align: top;\n",
       "    }\n",
       "\n",
       "    .dataframe thead th {\n",
       "        text-align: right;\n",
       "    }\n",
       "</style>\n",
       "<table border=\"1\" class=\"dataframe\">\n",
       "  <thead>\n",
       "    <tr style=\"text-align: right;\">\n",
       "      <th></th>\n",
       "      <th>task_completed</th>\n",
       "      <th>employee_experience</th>\n",
       "      <th>training_level4</th>\n",
       "      <th>training_level6</th>\n",
       "      <th>training_level8</th>\n",
       "    </tr>\n",
       "  </thead>\n",
       "  <tbody>\n",
       "    <tr>\n",
       "      <th>70</th>\n",
       "      <td>0</td>\n",
       "      <td>5.60</td>\n",
       "      <td>1</td>\n",
       "      <td>0</td>\n",
       "      <td>0</td>\n",
       "    </tr>\n",
       "    <tr>\n",
       "      <th>71</th>\n",
       "      <td>0</td>\n",
       "      <td>5.90</td>\n",
       "      <td>0</td>\n",
       "      <td>0</td>\n",
       "      <td>1</td>\n",
       "    </tr>\n",
       "    <tr>\n",
       "      <th>72</th>\n",
       "      <td>0</td>\n",
       "      <td>6.40</td>\n",
       "      <td>0</td>\n",
       "      <td>1</td>\n",
       "      <td>0</td>\n",
       "    </tr>\n",
       "    <tr>\n",
       "      <th>73</th>\n",
       "      <td>0</td>\n",
       "      <td>3.80</td>\n",
       "      <td>1</td>\n",
       "      <td>0</td>\n",
       "      <td>0</td>\n",
       "    </tr>\n",
       "    <tr>\n",
       "      <th>74</th>\n",
       "      <td>0</td>\n",
       "      <td>5.30</td>\n",
       "      <td>1</td>\n",
       "      <td>0</td>\n",
       "      <td>0</td>\n",
       "    </tr>\n",
       "  </tbody>\n",
       "</table>\n",
       "</div>"
      ],
      "text/plain": [
       "    task_completed  employee_experience  training_level4  training_level6  \\\n",
       "70               0                 5.60                1                0   \n",
       "71               0                 5.90                0                0   \n",
       "72               0                 6.40                0                1   \n",
       "73               0                 3.80                1                0   \n",
       "74               0                 5.30                1                0   \n",
       "\n",
       "    training_level8  \n",
       "70                0  \n",
       "71                1  \n",
       "72                0  \n",
       "73                0  \n",
       "74                0  "
      ]
     },
     "execution_count": 50,
     "metadata": {},
     "output_type": "execute_result"
    }
   ],
   "source": [
    "# #Once the libraries are imported, we need to load/read our real-life historical data on which the regression model is trained. \n",
    "#We do this with the help of our analytical library pandas. Pandas creates a 2-D data structure also known as dataframe for the purpose of easy understanding and viewing of our data\n",
    "df = pd.read_csv('SystemAdministrators.csv')\n",
    "df.tail()"
   ]
  },
  {
   "cell_type": "markdown",
   "id": "4cb07bcc",
   "metadata": {},
   "source": [
    "> **Initial Evaluation: Notes on Findings**<br><br>\n",
    ">**Observations:**<br>\n",
    ">>**Target:** task_completed (1 if employee can complete task, 0 otherwise)<br><br>\n",
    "\n",
    ">[Go to Data Prep Outline](#data-prep)\n",
    "---"
   ]
  },
  {
   "cell_type": "markdown",
   "id": "75ad8b47",
   "metadata": {},
   "source": [
    "> **Initial Cleanup - check for duplicate values, missing values** <a class=\"anchor\" id=\"missing-values\"></a>\n"
   ]
  },
  {
   "cell_type": "code",
   "execution_count": 51,
   "id": "215dd56c",
   "metadata": {},
   "outputs": [
    {
     "name": "stdout",
     "output_type": "stream",
     "text": [
      "Number of records: 75\n",
      "Number of records after dropping dupes: 75\n"
     ]
    }
   ],
   "source": [
    "print('Number of records:', len(df))\n",
    "df.drop_duplicates()\n",
    "print('Number of records after dropping dupes:', len(df))"
   ]
  },
  {
   "cell_type": "code",
   "execution_count": 52,
   "id": "e92fe0f8",
   "metadata": {},
   "outputs": [
    {
     "data": {
      "text/plain": [
       "task_completed         0\n",
       "employee_experience    0\n",
       "training_level4        0\n",
       "training_level6        0\n",
       "training_level8        0\n",
       "dtype: int64"
      ]
     },
     "execution_count": 52,
     "metadata": {},
     "output_type": "execute_result"
    }
   ],
   "source": [
    "df.isnull().sum()"
   ]
  },
  {
   "cell_type": "markdown",
   "id": "137bc3d0",
   "metadata": {},
   "source": [
    "> **Initial Cleanup: Summary of Actions**<br><br>\n",
    "No missing values or duplicates\n",
    "\n",
    ">[Go to Data Prep Outline](#data-prep)\n",
    "---"
   ]
  },
  {
   "cell_type": "markdown",
   "id": "e7873dbe",
   "metadata": {},
   "source": [
    "> **Outlier Detection & Treatment** <a class=\"anchor\" id=\"outliers\"></a>"
   ]
  },
  {
   "cell_type": "code",
   "execution_count": 53,
   "id": "b90c8e6b",
   "metadata": {
    "scrolled": false
   },
   "outputs": [
    {
     "data": {
      "text/html": [
       "<div>\n",
       "<style scoped>\n",
       "    .dataframe tbody tr th:only-of-type {\n",
       "        vertical-align: middle;\n",
       "    }\n",
       "\n",
       "    .dataframe tbody tr th {\n",
       "        vertical-align: top;\n",
       "    }\n",
       "\n",
       "    .dataframe thead th {\n",
       "        text-align: right;\n",
       "    }\n",
       "</style>\n",
       "<table border=\"1\" class=\"dataframe\">\n",
       "  <thead>\n",
       "    <tr style=\"text-align: right;\">\n",
       "      <th></th>\n",
       "      <th>task_completed</th>\n",
       "      <th>employee_experience</th>\n",
       "      <th>training_level4</th>\n",
       "      <th>training_level6</th>\n",
       "      <th>training_level8</th>\n",
       "    </tr>\n",
       "  </thead>\n",
       "  <tbody>\n",
       "    <tr>\n",
       "      <th>count</th>\n",
       "      <td>75.00</td>\n",
       "      <td>75.00</td>\n",
       "      <td>75.00</td>\n",
       "      <td>75.00</td>\n",
       "      <td>75.00</td>\n",
       "    </tr>\n",
       "    <tr>\n",
       "      <th>mean</th>\n",
       "      <td>0.20</td>\n",
       "      <td>6.80</td>\n",
       "      <td>0.76</td>\n",
       "      <td>0.17</td>\n",
       "      <td>0.07</td>\n",
       "    </tr>\n",
       "    <tr>\n",
       "      <th>std</th>\n",
       "      <td>0.40</td>\n",
       "      <td>2.27</td>\n",
       "      <td>0.43</td>\n",
       "      <td>0.38</td>\n",
       "      <td>0.25</td>\n",
       "    </tr>\n",
       "    <tr>\n",
       "      <th>min</th>\n",
       "      <td>0.00</td>\n",
       "      <td>2.70</td>\n",
       "      <td>0.00</td>\n",
       "      <td>0.00</td>\n",
       "      <td>0.00</td>\n",
       "    </tr>\n",
       "    <tr>\n",
       "      <th>25%</th>\n",
       "      <td>0.00</td>\n",
       "      <td>5.20</td>\n",
       "      <td>1.00</td>\n",
       "      <td>0.00</td>\n",
       "      <td>0.00</td>\n",
       "    </tr>\n",
       "    <tr>\n",
       "      <th>50%</th>\n",
       "      <td>0.00</td>\n",
       "      <td>6.30</td>\n",
       "      <td>1.00</td>\n",
       "      <td>0.00</td>\n",
       "      <td>0.00</td>\n",
       "    </tr>\n",
       "    <tr>\n",
       "      <th>75%</th>\n",
       "      <td>0.00</td>\n",
       "      <td>7.85</td>\n",
       "      <td>1.00</td>\n",
       "      <td>0.00</td>\n",
       "      <td>0.00</td>\n",
       "    </tr>\n",
       "    <tr>\n",
       "      <th>max</th>\n",
       "      <td>1.00</td>\n",
       "      <td>13.70</td>\n",
       "      <td>1.00</td>\n",
       "      <td>1.00</td>\n",
       "      <td>1.00</td>\n",
       "    </tr>\n",
       "  </tbody>\n",
       "</table>\n",
       "</div>"
      ],
      "text/plain": [
       "       task_completed  employee_experience  training_level4  training_level6  \\\n",
       "count           75.00                75.00            75.00            75.00   \n",
       "mean             0.20                 6.80             0.76             0.17   \n",
       "std              0.40                 2.27             0.43             0.38   \n",
       "min              0.00                 2.70             0.00             0.00   \n",
       "25%              0.00                 5.20             1.00             0.00   \n",
       "50%              0.00                 6.30             1.00             0.00   \n",
       "75%              0.00                 7.85             1.00             0.00   \n",
       "max              1.00                13.70             1.00             1.00   \n",
       "\n",
       "       training_level8  \n",
       "count            75.00  \n",
       "mean              0.07  \n",
       "std               0.25  \n",
       "min               0.00  \n",
       "25%               0.00  \n",
       "50%               0.00  \n",
       "75%               0.00  \n",
       "max               1.00  "
      ]
     },
     "execution_count": 53,
     "metadata": {},
     "output_type": "execute_result"
    }
   ],
   "source": [
    "df.describe()"
   ]
  },
  {
   "cell_type": "markdown",
   "id": "1c59ad75",
   "metadata": {},
   "source": [
    "The mean is sensitive to outliers, but the fact the mean is so small compared to the max value indicates the max value is an outlier. But here all the values are closeby to the mean thus no sign of outlier. However, let's plot the employee_experience which has a slight higher difference and is more than 2 Standard deviation away from the mean. "
   ]
  },
  {
   "cell_type": "code",
   "execution_count": 54,
   "id": "9bffce1b",
   "metadata": {},
   "outputs": [
    {
     "data": {
      "image/png": "[encoded data removed]",
      "text/plain": [
       "<Figure size 432x288 with 1 Axes>"
      ]
     },
     "metadata": {
      "needs_background": "light"
     },
     "output_type": "display_data"
    }
   ],
   "source": [
    "plot = df.plot.hist(column=[\"employee_experience\"])"
   ]
  },
  {
   "cell_type": "markdown",
   "id": "137968af",
   "metadata": {},
   "source": [
    "> **Note:**<br>\n",
    "Skipping for now"
   ]
  },
  {
   "cell_type": "markdown",
   "id": "677c92ed",
   "metadata": {},
   "source": [
    "> **Outlier Detection: Notes/Summary of Actions**<br>\n",
    "<br>\n",
    ">**Note:**<br>\n",
    "We note that the distribution somewhat follows a normal distribution. Thus, no outliers\n",
    "\n",
    ">[Go to Data Prep Outline](#data-prep)\n",
    "---"
   ]
  },
  {
   "cell_type": "markdown",
   "id": "a522191a",
   "metadata": {},
   "source": [
    "> **Feature Selection** <a class=\"anchor\" id=\"feature-selection\"></a>\n",
    "<br>\n",
    "\n",
    ">**To Do:**<br>\n",
    "> 1. Include everything<br>"
   ]
  },
  {
   "cell_type": "markdown",
   "id": "8d76475b",
   "metadata": {},
   "source": [
    "\n",
    ">[Go to Data Prep Outline](#data-prep)\n",
    "---"
   ]
  },
  {
   "cell_type": "markdown",
   "id": "1fad2a61",
   "metadata": {},
   "source": [
    "> **Data Partitioning** <a class=\"anchor\" id=\"data-split\"></a>\n",
    "<br>\n",
    ">To Do:<br>\n",
    ">1. Put all potential predictor variables into new object called 'X'\n",
    ">2. Put target variable in new object called 'y'\n",
    ">3. Partition data into training set and testing set<br>\n",
    "\n",
    ">This is simple for now - may need to add more sampling complexity in future\n"
   ]
  },
  {
   "cell_type": "code",
   "execution_count": 64,
   "id": "0426fd63",
   "metadata": {},
   "outputs": [],
   "source": [
    "target = ['task_completed']\n",
    "\n",
    "X = df.drop(target,axis=1)\n",
    "y = df[target]\n",
    "\n",
    "# Split data\n",
    "X_train,X_test,y_train,y_test = train_test_split(X,y, test_size=0.3,random_state=5) #changing the random state to check different knn possibilities"
   ]
  },
  {
   "cell_type": "markdown",
   "id": "c2dd5ed1",
   "metadata": {},
   "source": [
    ">[Go to Data Prep Outline](#data-prep)\n",
    "---"
   ]
  },
  {
   "cell_type": "markdown",
   "id": "9a78b5dc",
   "metadata": {},
   "source": [
    "> **Data Normalization** <a class=\"anchor\" id=\"normalization\"></a>\n",
    "<br><br>\n",
    ">**Note:**<br>\n",
    ">We do this AFTER splitting the data because we only want to use summary stats<br>\n",
    ">from the TRAINING data to normalize BOTH TRAIN and TEST data<br>\n",
    "<br><br>\n",
    "Why do we normalize? <br>\n",
    "Algorithms tend to perform better or converge faster when the different features (variables) are on a smaller scale. Therefore it is common practice to normalize the data before training machine learning models on it. <br>\n",
    ">OPTIONAL - though it is a good idea to get in the habit of doing this when working with the kNN classifier"
   ]
  },
  {
   "cell_type": "code",
   "execution_count": 65,
   "id": "0e0895de",
   "metadata": {},
   "outputs": [],
   "source": [
    "# Normalize predictor variables using Z-Scores.\n",
    "# Use means and standard deviations of features as calculated in the TRAINING DATA\n",
    "# New values are centered at 0.  Values reflect the number of standard deviations\n",
    "# each record is above or below the mean.\n",
    "\n",
    "features_means = X_train.mean()\n",
    "features_std = X_train.std()\n",
    "\n",
    "X_train = (X_train - features_means)/features_std\n",
    "X_test = (X_test - features_means)/features_std"
   ]
  },
  {
   "cell_type": "markdown",
   "id": "b68ebb4f",
   "metadata": {},
   "source": [
    ">[Go to Data Prep Outline](#data-prep)\n",
    "---"
   ]
  },
  {
   "cell_type": "markdown",
   "id": "ac34ce1b",
   "metadata": {},
   "source": [
    "# 4. Machine Learning <a class=\"anchor\" id=\"ml-model\"></a>\n",
    "\n",
    "- [X] [kNN](#first-model)\n",
    "- [X] [Logistic Model](#second-model)\n",
    "- [ ] [Performance Evaluation](#third-model)\n",
    "\n",
    "\n",
    "* [Go to Top](#table-of-content)"
   ]
  },
  {
   "cell_type": "markdown",
   "id": "e95304c7",
   "metadata": {},
   "source": [
    "> **kNN** <a class=\"anchor\" id=\"first-model\"></a>\n",
    "<br>\n",
    ">Instructions:<br>\n",
    ">1. Fit numerous kNN models using different values for k. <br>\n",
    ">2. Choose the \"best\" value for \"k\" based on Accuracy"
   ]
  },
  {
   "cell_type": "code",
   "execution_count": 60,
   "id": "e1a5e6f8",
   "metadata": {
    "scrolled": true
   },
   "outputs": [
    {
     "data": {
      "text/html": [
       "<div>\n",
       "<style scoped>\n",
       "    .dataframe tbody tr th:only-of-type {\n",
       "        vertical-align: middle;\n",
       "    }\n",
       "\n",
       "    .dataframe tbody tr th {\n",
       "        vertical-align: top;\n",
       "    }\n",
       "\n",
       "    .dataframe thead th {\n",
       "        text-align: right;\n",
       "    }\n",
       "</style>\n",
       "<table border=\"1\" class=\"dataframe\">\n",
       "  <thead>\n",
       "    <tr style=\"text-align: right;\">\n",
       "      <th></th>\n",
       "      <th>k</th>\n",
       "      <th>accuracy</th>\n",
       "    </tr>\n",
       "  </thead>\n",
       "  <tbody>\n",
       "    <tr>\n",
       "      <th>0</th>\n",
       "      <td>1</td>\n",
       "      <td>0.74</td>\n",
       "    </tr>\n",
       "    <tr>\n",
       "      <th>1</th>\n",
       "      <td>3</td>\n",
       "      <td>0.74</td>\n",
       "    </tr>\n",
       "    <tr>\n",
       "      <th>2</th>\n",
       "      <td>5</td>\n",
       "      <td>0.78</td>\n",
       "    </tr>\n",
       "    <tr>\n",
       "      <th>3</th>\n",
       "      <td>7</td>\n",
       "      <td>0.83</td>\n",
       "    </tr>\n",
       "    <tr>\n",
       "      <th>4</th>\n",
       "      <td>9</td>\n",
       "      <td>0.87</td>\n",
       "    </tr>\n",
       "    <tr>\n",
       "      <th>5</th>\n",
       "      <td>11</td>\n",
       "      <td>0.83</td>\n",
       "    </tr>\n",
       "    <tr>\n",
       "      <th>6</th>\n",
       "      <td>13</td>\n",
       "      <td>0.87</td>\n",
       "    </tr>\n",
       "    <tr>\n",
       "      <th>7</th>\n",
       "      <td>15</td>\n",
       "      <td>0.91</td>\n",
       "    </tr>\n",
       "    <tr>\n",
       "      <th>8</th>\n",
       "      <td>17</td>\n",
       "      <td>0.91</td>\n",
       "    </tr>\n",
       "    <tr>\n",
       "      <th>9</th>\n",
       "      <td>19</td>\n",
       "      <td>0.91</td>\n",
       "    </tr>\n",
       "    <tr>\n",
       "      <th>10</th>\n",
       "      <td>21</td>\n",
       "      <td>0.91</td>\n",
       "    </tr>\n",
       "  </tbody>\n",
       "</table>\n",
       "</div>"
      ],
      "text/plain": [
       "     k  accuracy\n",
       "0    1      0.74\n",
       "1    3      0.74\n",
       "2    5      0.78\n",
       "3    7      0.83\n",
       "4    9      0.87\n",
       "5   11      0.83\n",
       "6   13      0.87\n",
       "7   15      0.91\n",
       "8   17      0.91\n",
       "9   19      0.91\n",
       "10  21      0.91"
      ]
     },
     "execution_count": 60,
     "metadata": {},
     "output_type": "execute_result"
    }
   ],
   "source": [
    "# 1. train a classifier for different values of k\n",
    "results = []\n",
    "for k in [1,3,5,7,9,11,13,15,17,19,21]:\n",
    "    knn = KNeighborsClassifier(n_neighbors=k)\n",
    "    knn.fit(X_train,y_train.values.ravel())\n",
    "    \n",
    "    # Get predicted class\n",
    "    y_pred_class = knn.predict(X_test)\n",
    "    \n",
    "    # Put Accuracy Score in results object\n",
    "    results.append({'k':k,\n",
    "                    'accuracy':metrics.accuracy_score(y_test,y_pred_class)\n",
    "                   }\n",
    "                  )\n",
    "# Put results from above into a Pandas Dataframe\n",
    "results_df = pd.DataFrame(results)\n",
    "results_df"
   ]
  },
  {
   "cell_type": "markdown",
   "id": "b57cd4d6",
   "metadata": {},
   "source": [
    ">**Decision:**<br>\n",
    "Based on the results above, I will set my number of neighbors (k) to 15 as this is the lowest value that achieves the highest accuracy value<br>\n",
    "\n",
    ">**Re-run kNN using the value selected above:**<br>\n",
    "For this final run of kNN, we will produce a table of performance measures across a range of probability threshold values"
   ]
  },
  {
   "cell_type": "code",
   "execution_count": 61,
   "id": "b654f41e",
   "metadata": {
    "scrolled": true
   },
   "outputs": [
    {
     "name": "stdout",
     "output_type": "stream",
     "text": [
      "Training data Accuracy: 0.87\n",
      "Testing data Accuracy: 0.83\n"
     ]
    }
   ],
   "source": [
    "knn = KNeighborsClassifier(n_neighbors=15)\n",
    "knn.fit(X_train,y_train.values.ravel())\n",
    "\n",
    "# Let's do a quick check to see if we have to worry about problems of overfitting.\n",
    "# Remember!  Small values for \"k\" in kNN tend to lead to overfitting.\n",
    "# Large value for \"k\" in kNN tend to produce underfit models\n",
    "y_train_pred_class = knn.predict(X_train)\n",
    "y_test_pred_class = knn.predict(X_test)\n",
    "\n",
    "print('Training data Accuracy:', metrics.accuracy_score(y_train,y_train_pred_class).round(2))\n",
    "print('Testing data Accuracy:', metrics.accuracy_score(y_test,y_test_pred_class).round(2))\n"
   ]
  },
  {
   "cell_type": "markdown",
   "id": "57f067f2",
   "metadata": {},
   "source": [
    ">**Logistic Model:**<br>\n",
    ">Let's produce the same table above but this time using a Logistic Model\n",
    "\n",
    "\n"
   ]
  },
  {
   "cell_type": "code",
   "execution_count": 66,
   "id": "79e725db",
   "metadata": {},
   "outputs": [
    {
     "name": "stdout",
     "output_type": "stream",
     "text": [
      "Training data Accuracy: 0.92\n",
      "Testing data Accuracy: 0.87\n"
     ]
    }
   ],
   "source": [
    "lr_model = LogisticRegression()\n",
    "lr_model.fit(X_train,y_train.values.ravel())\n",
    "\n",
    "# Let's do a quick check to see if we have to worry about problems of overfitting.\n",
    "y_train_pred_class = lr_model.predict(X_train)\n",
    "y_test_pred_class = lr_model.predict(X_test)\n",
    "\n",
    "print('Training data Accuracy:', metrics.accuracy_score(y_train,y_train_pred_class).round(2))\n",
    "print('Testing data Accuracy:', metrics.accuracy_score(y_test,y_test_pred_class).round(2))"
   ]
  },
  {
   "cell_type": "markdown",
   "id": "7ba26e13",
   "metadata": {},
   "source": [
    ">**Winning Model:**<br>\n",
    "We need to quickly decide which modeling framework to go forward with<br>\n",
    "To keep this simple - I'm going to use AUC and will choose the model that gives us the highest value"
   ]
  },
  {
   "cell_type": "code",
   "execution_count": 67,
   "id": "4b504f4f",
   "metadata": {},
   "outputs": [
    {
     "name": "stderr",
     "output_type": "stream",
     "text": [
      "C:\\Users\\dmmehta3\\Anaconda3\\lib\\site-packages\\sklearn\\utils\\deprecation.py:87: FutureWarning: Function plot_roc_curve is deprecated; Function :func:`plot_roc_curve` is deprecated in 1.0 and will be removed in 1.2. Use one of the class methods: :meth:`sklearn.metric.RocCurveDisplay.from_predictions` or :meth:`sklearn.metric.RocCurveDisplay.from_estimator`.\n",
      "  warnings.warn(msg, category=FutureWarning)\n"
     ]
    },
    {
     "data": {
      "image/png": "[encoded data removed]",
      "text/plain": [
       "<Figure size 432x288 with 1 Axes>"
      ]
     },
     "metadata": {
      "needs_background": "light"
     },
     "output_type": "display_data"
    },
    {
     "name": "stderr",
     "output_type": "stream",
     "text": [
      "C:\\Users\\dmmehta3\\Anaconda3\\lib\\site-packages\\sklearn\\utils\\deprecation.py:87: FutureWarning: Function plot_roc_curve is deprecated; Function :func:`plot_roc_curve` is deprecated in 1.0 and will be removed in 1.2. Use one of the class methods: :meth:`sklearn.metric.RocCurveDisplay.from_predictions` or :meth:`sklearn.metric.RocCurveDisplay.from_estimator`.\n",
      "  warnings.warn(msg, category=FutureWarning)\n"
     ]
    },
    {
     "data": {
      "image/png": "[encoded data removed]",
      "text/plain": [
       "<Figure size 432x288 with 1 Axes>"
      ]
     },
     "metadata": {
      "needs_background": "light"
     },
     "output_type": "display_data"
    }
   ],
   "source": [
    "# ROC curve for kNN\n",
    "metrics.plot_roc_curve(knn,X_test,y_test)\n",
    "plt.show()\n",
    "\n",
    "# ROC curve for Logistic Model\n",
    "metrics.plot_roc_curve(lr_model,X_test,y_test)\n",
    "plt.show()"
   ]
  },
  {
   "cell_type": "markdown",
   "id": "ab508463",
   "metadata": {},
   "source": [
    ">**Decision Point:**<br>\n",
    "AUC is highest for our Logistic Model so I will use that model to further evaluate probability thresholds and corresponding performance measures"
   ]
  },
  {
   "cell_type": "code",
   "execution_count": 68,
   "id": "6a0e669a",
   "metadata": {
    "scrolled": false
   },
   "outputs": [
    {
     "name": "stderr",
     "output_type": "stream",
     "text": [
      "C:\\Users\\dmmehta3\\Anaconda3\\lib\\site-packages\\sklearn\\metrics\\_classification.py:1318: UndefinedMetricWarning: Precision is ill-defined and being set to 0.0 due to no predicted samples. Use `zero_division` parameter to control this behavior.\n",
      "  _warn_prf(average, modifier, msg_start, len(result))\n"
     ]
    },
    {
     "data": {
      "text/html": [
       "<div>\n",
       "<style scoped>\n",
       "    .dataframe tbody tr th:only-of-type {\n",
       "        vertical-align: middle;\n",
       "    }\n",
       "\n",
       "    .dataframe tbody tr th {\n",
       "        vertical-align: top;\n",
       "    }\n",
       "\n",
       "    .dataframe thead th {\n",
       "        text-align: right;\n",
       "    }\n",
       "</style>\n",
       "<table border=\"1\" class=\"dataframe\">\n",
       "  <thead>\n",
       "    <tr style=\"text-align: right;\">\n",
       "      <th></th>\n",
       "      <th>threshold</th>\n",
       "      <th>TP</th>\n",
       "      <th>TN</th>\n",
       "      <th>FP</th>\n",
       "      <th>FN</th>\n",
       "      <th>Precision</th>\n",
       "      <th>Recall</th>\n",
       "      <th>Accuracy</th>\n",
       "    </tr>\n",
       "  </thead>\n",
       "  <tbody>\n",
       "    <tr>\n",
       "      <th>0</th>\n",
       "      <td>0.00</td>\n",
       "      <td>3</td>\n",
       "      <td>0</td>\n",
       "      <td>20</td>\n",
       "      <td>0</td>\n",
       "      <td>0.13</td>\n",
       "      <td>1.00</td>\n",
       "      <td>0.13</td>\n",
       "    </tr>\n",
       "    <tr>\n",
       "      <th>1</th>\n",
       "      <td>0.10</td>\n",
       "      <td>3</td>\n",
       "      <td>11</td>\n",
       "      <td>9</td>\n",
       "      <td>0</td>\n",
       "      <td>0.25</td>\n",
       "      <td>1.00</td>\n",
       "      <td>0.61</td>\n",
       "    </tr>\n",
       "    <tr>\n",
       "      <th>2</th>\n",
       "      <td>0.20</td>\n",
       "      <td>3</td>\n",
       "      <td>15</td>\n",
       "      <td>5</td>\n",
       "      <td>0</td>\n",
       "      <td>0.38</td>\n",
       "      <td>1.00</td>\n",
       "      <td>0.78</td>\n",
       "    </tr>\n",
       "    <tr>\n",
       "      <th>3</th>\n",
       "      <td>0.30</td>\n",
       "      <td>2</td>\n",
       "      <td>17</td>\n",
       "      <td>3</td>\n",
       "      <td>1</td>\n",
       "      <td>0.40</td>\n",
       "      <td>0.67</td>\n",
       "      <td>0.83</td>\n",
       "    </tr>\n",
       "    <tr>\n",
       "      <th>4</th>\n",
       "      <td>0.40</td>\n",
       "      <td>2</td>\n",
       "      <td>18</td>\n",
       "      <td>2</td>\n",
       "      <td>1</td>\n",
       "      <td>0.50</td>\n",
       "      <td>0.67</td>\n",
       "      <td>0.87</td>\n",
       "    </tr>\n",
       "    <tr>\n",
       "      <th>5</th>\n",
       "      <td>0.50</td>\n",
       "      <td>1</td>\n",
       "      <td>19</td>\n",
       "      <td>1</td>\n",
       "      <td>2</td>\n",
       "      <td>0.50</td>\n",
       "      <td>0.33</td>\n",
       "      <td>0.87</td>\n",
       "    </tr>\n",
       "    <tr>\n",
       "      <th>6</th>\n",
       "      <td>0.60</td>\n",
       "      <td>1</td>\n",
       "      <td>20</td>\n",
       "      <td>0</td>\n",
       "      <td>2</td>\n",
       "      <td>1.00</td>\n",
       "      <td>0.33</td>\n",
       "      <td>0.91</td>\n",
       "    </tr>\n",
       "    <tr>\n",
       "      <th>7</th>\n",
       "      <td>0.70</td>\n",
       "      <td>1</td>\n",
       "      <td>20</td>\n",
       "      <td>0</td>\n",
       "      <td>2</td>\n",
       "      <td>1.00</td>\n",
       "      <td>0.33</td>\n",
       "      <td>0.91</td>\n",
       "    </tr>\n",
       "    <tr>\n",
       "      <th>8</th>\n",
       "      <td>0.80</td>\n",
       "      <td>1</td>\n",
       "      <td>20</td>\n",
       "      <td>0</td>\n",
       "      <td>2</td>\n",
       "      <td>1.00</td>\n",
       "      <td>0.33</td>\n",
       "      <td>0.91</td>\n",
       "    </tr>\n",
       "    <tr>\n",
       "      <th>9</th>\n",
       "      <td>0.90</td>\n",
       "      <td>1</td>\n",
       "      <td>20</td>\n",
       "      <td>0</td>\n",
       "      <td>2</td>\n",
       "      <td>1.00</td>\n",
       "      <td>0.33</td>\n",
       "      <td>0.91</td>\n",
       "    </tr>\n",
       "    <tr>\n",
       "      <th>10</th>\n",
       "      <td>1.00</td>\n",
       "      <td>0</td>\n",
       "      <td>20</td>\n",
       "      <td>0</td>\n",
       "      <td>3</td>\n",
       "      <td>0.00</td>\n",
       "      <td>0.00</td>\n",
       "      <td>0.87</td>\n",
       "    </tr>\n",
       "  </tbody>\n",
       "</table>\n",
       "</div>"
      ],
      "text/plain": [
       "    threshold  TP  TN  FP  FN  Precision  Recall  Accuracy\n",
       "0        0.00   3   0  20   0       0.13    1.00      0.13\n",
       "1        0.10   3  11   9   0       0.25    1.00      0.61\n",
       "2        0.20   3  15   5   0       0.38    1.00      0.78\n",
       "3        0.30   2  17   3   1       0.40    0.67      0.83\n",
       "4        0.40   2  18   2   1       0.50    0.67      0.87\n",
       "5        0.50   1  19   1   2       0.50    0.33      0.87\n",
       "6        0.60   1  20   0   2       1.00    0.33      0.91\n",
       "7        0.70   1  20   0   2       1.00    0.33      0.91\n",
       "8        0.80   1  20   0   2       1.00    0.33      0.91\n",
       "9        0.90   1  20   0   2       1.00    0.33      0.91\n",
       "10       1.00   0  20   0   3       0.00    0.00      0.87"
      ]
     },
     "execution_count": 68,
     "metadata": {},
     "output_type": "execute_result"
    }
   ],
   "source": [
    "class_perf_measures(lr_model,X_test,y_test)"
   ]
  },
  {
   "cell_type": "markdown",
   "id": "95bc48e0",
   "metadata": {},
   "source": [
    "1. **Prob Threshold = 0.2**:\n",
    "    - relative low threshold required to predict positive outcomes. It means predicted probability should be greater than 0.2 to       be classified into task completed class. In our case \"positive\" means \"task completed.\" Also, here we might label lot of         employees as task not completed when in reality they are capable to complete the task.\n",
    "    - we also see false positives (FP) - this makes sense given the low threshold\n",
    "    - Considering our business, false positives are the costliest mistakes we would make. Because, if an employee is predicted         to complete the task and is assigned to project and they do not complete the task, it results in loss to the organization. \n",
    "    - False negatives are not the costliest mistake considering our business, because if an employee is predicted to not               complete a task, they still continue to be the employee of organization and can be assigned to low priority task, their         performance can be continuously monitered etc. It does not risk the organization. \n",
    "    - Given our assumptions above - we need to take in consideration the precision value. For probability threshold 0.2 the           precision value is 0.38. We can move forward and check higher probability threshold.\n",
    "<br><br>\n",
    "2. **Prob Threshold = 0.5**:\n",
    "    - relatively higher threshold, it means predicted probability should be greater than 0.5 to be classified into task               completed class. Here we expect a relatively fair number of \"task not completed\" predictions. \n",
    "    - It is  better threshold than 0.2 because of high precision score, more fair predictions. \n",
    "<br><br>\n",
    "3. **Prob Threshold = 0.8**:\n",
    "    - High threshold. It means predicted probability should be greater than 0.8 to be classified into task completed class. \n",
    "    - Now, we have more number of True Negatives and zero false positive. This is a good sign since we were more considered on         false positive rates.\n",
    "    - Yes, it is better threshold than 0.2 and 0.5\n",
    "<br><br>\n",
    "4. Which threshold would you choose?  Justify your decision. <br>\n",
    "I would choose 0.8 probability threshold because it gives no False positives, high True Negatives. At least, there won't be any false prediction meaning an employee who cannot complete the task will never be considered in task completed task. This will avoid risk to the organization. Moreover, this threshold has high precision and high accuracy score."
   ]
  },
  {
   "cell_type": "markdown",
   "id": "0754146f",
   "metadata": {},
   "source": [
    ">[Go to Machine Learning Outline](#ml-model)\n",
    "---"
   ]
  }
 ],
 "metadata": {
  "kernelspec": {
   "display_name": "Python 3 (ipykernel)",
   "language": "python",
   "name": "python3"
  },
  "language_info": {
   "codemirror_mode": {
    "name": "ipython",
    "version": 3
   },
   "file_extension": ".py",
   "mimetype": "text/x-python",
   "name": "python",
   "nbconvert_exporter": "python",
   "pygments_lexer": "ipython3",
   "version": "3.9.12"
  }
 },
 "nbformat": 4,
 "nbformat_minor": 5
}
